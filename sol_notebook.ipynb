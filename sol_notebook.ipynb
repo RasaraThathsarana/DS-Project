{
 "cells": [
  {
   "cell_type": "code",
   "execution_count": 1,
   "metadata": {},
   "outputs": [],
   "source": [
    "import numpy as np\n",
    "import pandas as pd\n",
    "import matplotlib.pyplot as plt\n",
    "\n",
    "from statsmodels.tsa.seasonal import seasonal_decompose, STL\n",
    "from statsmodels.graphics.tsaplots import plot_acf\n",
    "from statsmodels.tsa.stattools import adfuller\n",
    "\n",
    "import warnings\n",
    "warnings.filterwarnings('ignore')\n"
   ]
  },
  {
   "cell_type": "code",
   "execution_count": 2,
   "metadata": {},
   "outputs": [
    {
     "data": {
      "text/html": [
       "<div>\n",
       "<style scoped>\n",
       "    .dataframe tbody tr th:only-of-type {\n",
       "        vertical-align: middle;\n",
       "    }\n",
       "\n",
       "    .dataframe tbody tr th {\n",
       "        vertical-align: top;\n",
       "    }\n",
       "\n",
       "    .dataframe thead th {\n",
       "        text-align: right;\n",
       "    }\n",
       "</style>\n",
       "<table border=\"1\" class=\"dataframe\">\n",
       "  <thead>\n",
       "    <tr style=\"text-align: right;\">\n",
       "      <th></th>\n",
       "      <th>snapped_at</th>\n",
       "      <th>price</th>\n",
       "      <th>market_cap</th>\n",
       "      <th>total_volume</th>\n",
       "    </tr>\n",
       "  </thead>\n",
       "  <tbody>\n",
       "    <tr>\n",
       "      <th>0</th>\n",
       "      <td>2020-04-11</td>\n",
       "      <td>0.957606</td>\n",
       "      <td>7.827652e+06</td>\n",
       "      <td>9.267267e+07</td>\n",
       "    </tr>\n",
       "    <tr>\n",
       "      <th>1</th>\n",
       "      <td>2020-04-12</td>\n",
       "      <td>0.784711</td>\n",
       "      <td>6.173608e+06</td>\n",
       "      <td>4.945869e+07</td>\n",
       "    </tr>\n",
       "    <tr>\n",
       "      <th>2</th>\n",
       "      <td>2020-04-13</td>\n",
       "      <td>0.875994</td>\n",
       "      <td>7.269680e+06</td>\n",
       "      <td>3.782101e+07</td>\n",
       "    </tr>\n",
       "    <tr>\n",
       "      <th>3</th>\n",
       "      <td>2020-04-14</td>\n",
       "      <td>0.786712</td>\n",
       "      <td>6.302364e+06</td>\n",
       "      <td>1.957921e+07</td>\n",
       "    </tr>\n",
       "    <tr>\n",
       "      <th>4</th>\n",
       "      <td>2020-04-15</td>\n",
       "      <td>0.666673</td>\n",
       "      <td>5.306221e+06</td>\n",
       "      <td>1.752353e+07</td>\n",
       "    </tr>\n",
       "  </tbody>\n",
       "</table>\n",
       "</div>"
      ],
      "text/plain": [
       "   snapped_at     price    market_cap  total_volume\n",
       "0  2020-04-11  0.957606  7.827652e+06  9.267267e+07\n",
       "1  2020-04-12  0.784711  6.173608e+06  4.945869e+07\n",
       "2  2020-04-13  0.875994  7.269680e+06  3.782101e+07\n",
       "3  2020-04-14  0.786712  6.302364e+06  1.957921e+07\n",
       "4  2020-04-15  0.666673  5.306221e+06  1.752353e+07"
      ]
     },
     "execution_count": 2,
     "metadata": {},
     "output_type": "execute_result"
    }
   ],
   "source": [
    "df = pd.read_csv(\"sol-usd-max.csv\")\n",
    "df['snapped_at'] = pd.to_datetime(df['snapped_at'])\n",
    "df['snapped_at'] = df['snapped_at'].dt.strftime('%Y-%m-%d')\n",
    "df.head()"
   ]
  },
  {
   "cell_type": "code",
   "execution_count": 3,
   "metadata": {},
   "outputs": [
    {
     "data": {
      "text/html": [
       "<div>\n",
       "<style scoped>\n",
       "    .dataframe tbody tr th:only-of-type {\n",
       "        vertical-align: middle;\n",
       "    }\n",
       "\n",
       "    .dataframe tbody tr th {\n",
       "        vertical-align: top;\n",
       "    }\n",
       "\n",
       "    .dataframe thead th {\n",
       "        text-align: right;\n",
       "    }\n",
       "</style>\n",
       "<table border=\"1\" class=\"dataframe\">\n",
       "  <thead>\n",
       "    <tr style=\"text-align: right;\">\n",
       "      <th></th>\n",
       "      <th>snapped_at</th>\n",
       "      <th>price</th>\n",
       "      <th>market_cap</th>\n",
       "      <th>total_volume</th>\n",
       "    </tr>\n",
       "  </thead>\n",
       "  <tbody>\n",
       "    <tr>\n",
       "      <th>1533</th>\n",
       "      <td>2024-06-22</td>\n",
       "      <td>134.513295</td>\n",
       "      <td>6.207826e+10</td>\n",
       "      <td>2.427906e+09</td>\n",
       "    </tr>\n",
       "    <tr>\n",
       "      <th>1534</th>\n",
       "      <td>2024-06-23</td>\n",
       "      <td>133.486085</td>\n",
       "      <td>6.160669e+10</td>\n",
       "      <td>1.097685e+09</td>\n",
       "    </tr>\n",
       "    <tr>\n",
       "      <th>1535</th>\n",
       "      <td>2024-06-24</td>\n",
       "      <td>128.540282</td>\n",
       "      <td>5.935284e+10</td>\n",
       "      <td>1.252604e+09</td>\n",
       "    </tr>\n",
       "    <tr>\n",
       "      <th>1536</th>\n",
       "      <td>2024-06-25</td>\n",
       "      <td>132.337787</td>\n",
       "      <td>6.104235e+10</td>\n",
       "      <td>3.858604e+09</td>\n",
       "    </tr>\n",
       "    <tr>\n",
       "      <th>1537</th>\n",
       "      <td>2024-06-26</td>\n",
       "      <td>136.513745</td>\n",
       "      <td>6.310626e+10</td>\n",
       "      <td>2.814100e+09</td>\n",
       "    </tr>\n",
       "  </tbody>\n",
       "</table>\n",
       "</div>"
      ],
      "text/plain": [
       "      snapped_at       price    market_cap  total_volume\n",
       "1533  2024-06-22  134.513295  6.207826e+10  2.427906e+09\n",
       "1534  2024-06-23  133.486085  6.160669e+10  1.097685e+09\n",
       "1535  2024-06-24  128.540282  5.935284e+10  1.252604e+09\n",
       "1536  2024-06-25  132.337787  6.104235e+10  3.858604e+09\n",
       "1537  2024-06-26  136.513745  6.310626e+10  2.814100e+09"
      ]
     },
     "execution_count": 3,
     "metadata": {},
     "output_type": "execute_result"
    }
   ],
   "source": [
    "df.tail()"
   ]
  },
  {
   "cell_type": "code",
   "execution_count": 4,
   "metadata": {},
   "outputs": [
    {
     "data": {
      "text/html": [
       "<div>\n",
       "<style scoped>\n",
       "    .dataframe tbody tr th:only-of-type {\n",
       "        vertical-align: middle;\n",
       "    }\n",
       "\n",
       "    .dataframe tbody tr th {\n",
       "        vertical-align: top;\n",
       "    }\n",
       "\n",
       "    .dataframe thead th {\n",
       "        text-align: right;\n",
       "    }\n",
       "</style>\n",
       "<table border=\"1\" class=\"dataframe\">\n",
       "  <thead>\n",
       "    <tr style=\"text-align: right;\">\n",
       "      <th></th>\n",
       "      <th>price</th>\n",
       "      <th>market_cap</th>\n",
       "      <th>total_volume</th>\n",
       "    </tr>\n",
       "  </thead>\n",
       "  <tbody>\n",
       "    <tr>\n",
       "      <th>count</th>\n",
       "      <td>1538.000000</td>\n",
       "      <td>1.538000e+03</td>\n",
       "      <td>1.538000e+03</td>\n",
       "    </tr>\n",
       "    <tr>\n",
       "      <th>mean</th>\n",
       "      <td>56.041458</td>\n",
       "      <td>2.016047e+10</td>\n",
       "      <td>1.320400e+09</td>\n",
       "    </tr>\n",
       "    <tr>\n",
       "      <th>std</th>\n",
       "      <td>59.967432</td>\n",
       "      <td>2.238520e+10</td>\n",
       "      <td>1.663267e+09</td>\n",
       "    </tr>\n",
       "    <tr>\n",
       "      <th>min</th>\n",
       "      <td>0.513923</td>\n",
       "      <td>4.171226e+06</td>\n",
       "      <td>5.489101e+05</td>\n",
       "    </tr>\n",
       "    <tr>\n",
       "      <th>25%</th>\n",
       "      <td>14.169609</td>\n",
       "      <td>4.925559e+09</td>\n",
       "      <td>2.294146e+08</td>\n",
       "    </tr>\n",
       "    <tr>\n",
       "      <th>50%</th>\n",
       "      <td>30.849660</td>\n",
       "      <td>1.001419e+10</td>\n",
       "      <td>7.460347e+08</td>\n",
       "    </tr>\n",
       "    <tr>\n",
       "      <th>75%</th>\n",
       "      <td>93.991850</td>\n",
       "      <td>3.182447e+10</td>\n",
       "      <td>1.882708e+09</td>\n",
       "    </tr>\n",
       "    <tr>\n",
       "      <th>max</th>\n",
       "      <td>259.239558</td>\n",
       "      <td>9.010785e+10</td>\n",
       "      <td>1.614909e+10</td>\n",
       "    </tr>\n",
       "  </tbody>\n",
       "</table>\n",
       "</div>"
      ],
      "text/plain": [
       "             price    market_cap  total_volume\n",
       "count  1538.000000  1.538000e+03  1.538000e+03\n",
       "mean     56.041458  2.016047e+10  1.320400e+09\n",
       "std      59.967432  2.238520e+10  1.663267e+09\n",
       "min       0.513923  4.171226e+06  5.489101e+05\n",
       "25%      14.169609  4.925559e+09  2.294146e+08\n",
       "50%      30.849660  1.001419e+10  7.460347e+08\n",
       "75%      93.991850  3.182447e+10  1.882708e+09\n",
       "max     259.239558  9.010785e+10  1.614909e+10"
      ]
     },
     "execution_count": 4,
     "metadata": {},
     "output_type": "execute_result"
    }
   ],
   "source": [
    "df.describe()"
   ]
  },
  {
   "cell_type": "code",
   "execution_count": 6,
   "metadata": {},
   "outputs": [
    {
     "data": {
      "image/png": "[encoded data removed]",
      "text/plain": [
       "<Figure size 640x480 with 1 Axes>"
      ]
     },
     "metadata": {},
     "output_type": "display_data"
    }
   ],
   "source": [
    "fig, ax = plt.subplots()\n",
    "\n",
    "ax.plot(df[\"snapped_at\"], df[\"price\"])\n",
    "ax.set_xlabel(\"Date\")\n",
    "ax.set_ylabel(\"Price\")\n",
    "# ax.axvspan(2056, 2421, color='#808080', alpha=0.2)\n",
    "\n",
    "# plt.xticks(np.arange(53, 2421,365))\n",
    "\n",
    "fig.autofmt_xdate()\n",
    "plt.tight_layout()"
   ]
  },
  {
   "cell_type": "markdown",
   "metadata": {},
   "source": [
    "Is this Random Walk?\n"
   ]
  },
  {
   "cell_type": "code",
   "execution_count": 7,
   "metadata": {},
   "outputs": [
    {
     "name": "stdout",
     "output_type": "stream",
     "text": [
      "ADF Statistic: -1.6134723869990792\n",
      "p-value: 0.47615309069549133\n"
     ]
    }
   ],
   "source": [
    "ADF_result = adfuller(df['price'])\n",
    "\n",
    "print(f'ADF Statistic: {ADF_result[0]}')\n",
    "print(f'p-value: {ADF_result[1]}')"
   ]
  },
  {
   "cell_type": "markdown",
   "metadata": {},
   "source": [
    "p-value is not less than 0.05 so cannot reject null hypothesis.\n"
   ]
  },
  {
   "cell_type": "markdown",
   "metadata": {},
   "source": [
    "so we get difference"
   ]
  },
  {
   "cell_type": "code",
   "execution_count": 8,
   "metadata": {},
   "outputs": [],
   "source": [
    "diff_price = np.diff(df['price'], n=1)"
   ]
  },
  {
   "cell_type": "code",
   "execution_count": 9,
   "metadata": {},
   "outputs": [
    {
     "name": "stdout",
     "output_type": "stream",
     "text": [
      "ADF Statistic: -6.148409056243905\n",
      "p-value: 7.666855180105214e-08\n"
     ]
    }
   ],
   "source": [
    "diff_ADF_result = adfuller(diff_price)\n",
    "\n",
    "print(f'ADF Statistic: {diff_ADF_result[0]}')\n",
    "print(f'p-value: {diff_ADF_result[1]}')"
   ]
  },
  {
   "cell_type": "markdown",
   "metadata": {},
   "source": [
    "p-value is less than 0.05 so diff_price is stationary."
   ]
  },
  {
   "cell_type": "code",
   "execution_count": 10,
   "metadata": {},
   "outputs": [
    {
     "data": {
      "image/png": "[encoded data removed]",
      "text/plain": [
       "<Figure size 640x480 with 1 Axes>"
      ]
     },
     "metadata": {},
     "output_type": "display_data"
    }
   ],
   "source": [
    "plot_acf(diff_price, lags=20);"
   ]
  },
  {
   "cell_type": "markdown",
   "metadata": {},
   "source": [
    "Time series is very near to Random Walk. But not 100%"
   ]
  },
  {
   "cell_type": "code",
   "execution_count": null,
   "metadata": {},
   "outputs": [],
   "source": []
  }
 ],
 "metadata": {
  "kernelspec": {
   "display_name": "Python 3",
   "language": "python",
   "name": "python3"
  },
  "language_info": {
   "codemirror_mode": {
    "name": "ipython",
    "version": 3
   },
   "file_extension": ".py",
   "mimetype": "text/x-python",
   "name": "python",
   "nbconvert_exporter": "python",
   "pygments_lexer": "ipython3",
   "version": "3.11.4"
  }
 },
 "nbformat": 4,
 "nbformat_minor": 2
}

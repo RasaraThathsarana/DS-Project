{
 "cells": [
  {
   "cell_type": "code",
   "execution_count": 1,
   "metadata": {},
   "outputs": [],
   "source": [
    "import numpy as np\n",
    "import pandas as pd\n",
    "import matplotlib.pyplot as plt\n",
    "\n",
    "from statsmodels.tsa.seasonal import seasonal_decompose, STL\n",
    "from statsmodels.graphics.tsaplots import plot_acf\n",
    "from statsmodels.tsa.stattools import adfuller\n",
    "\n",
    "import warnings\n",
    "warnings.filterwarnings('ignore')\n"
   ]
  },
  {
   "cell_type": "code",
   "execution_count": 2,
   "metadata": {},
   "outputs": [
    {
     "data": {
      "text/html": [
       "<div>\n",
       "<style scoped>\n",
       "    .dataframe tbody tr th:only-of-type {\n",
       "        vertical-align: middle;\n",
       "    }\n",
       "\n",
       "    .dataframe tbody tr th {\n",
       "        vertical-align: top;\n",
       "    }\n",
       "\n",
       "    .dataframe thead th {\n",
       "        text-align: right;\n",
       "    }\n",
       "</style>\n",
       "<table border=\"1\" class=\"dataframe\">\n",
       "  <thead>\n",
       "    <tr style=\"text-align: right;\">\n",
       "      <th></th>\n",
       "      <th>snapped_at</th>\n",
       "      <th>price</th>\n",
       "      <th>market_cap</th>\n",
       "      <th>total_volume</th>\n",
       "    </tr>\n",
       "  </thead>\n",
       "  <tbody>\n",
       "    <tr>\n",
       "      <th>0</th>\n",
       "      <td>2020-09-16</td>\n",
       "      <td>0.001550</td>\n",
       "      <td>0.0</td>\n",
       "      <td>15827.251535</td>\n",
       "    </tr>\n",
       "    <tr>\n",
       "      <th>1</th>\n",
       "      <td>2020-09-17</td>\n",
       "      <td>0.001550</td>\n",
       "      <td>0.0</td>\n",
       "      <td>15827.251535</td>\n",
       "    </tr>\n",
       "    <tr>\n",
       "      <th>2</th>\n",
       "      <td>2020-09-18</td>\n",
       "      <td>0.002191</td>\n",
       "      <td>0.0</td>\n",
       "      <td>56114.949176</td>\n",
       "    </tr>\n",
       "    <tr>\n",
       "      <th>3</th>\n",
       "      <td>2020-09-19</td>\n",
       "      <td>0.001567</td>\n",
       "      <td>0.0</td>\n",
       "      <td>65498.653941</td>\n",
       "    </tr>\n",
       "    <tr>\n",
       "      <th>4</th>\n",
       "      <td>2020-09-20</td>\n",
       "      <td>0.001545</td>\n",
       "      <td>0.0</td>\n",
       "      <td>26741.421334</td>\n",
       "    </tr>\n",
       "  </tbody>\n",
       "</table>\n",
       "</div>"
      ],
      "text/plain": [
       "   snapped_at     price  market_cap  total_volume\n",
       "0  2020-09-16  0.001550         0.0  15827.251535\n",
       "1  2020-09-17  0.001550         0.0  15827.251535\n",
       "2  2020-09-18  0.002191         0.0  56114.949176\n",
       "3  2020-09-19  0.001567         0.0  65498.653941\n",
       "4  2020-09-20  0.001545         0.0  26741.421334"
      ]
     },
     "execution_count": 2,
     "metadata": {},
     "output_type": "execute_result"
    }
   ],
   "source": [
    "df = pd.read_csv(\"GALA-usd-max.csv\")\n",
    "df['snapped_at'] = pd.to_datetime(df['snapped_at'])\n",
    "df['snapped_at'] = df['snapped_at'].dt.strftime('%Y-%m-%d')\n",
    "df.head()"
   ]
  },
  {
   "cell_type": "code",
   "execution_count": 3,
   "metadata": {},
   "outputs": [
    {
     "data": {
      "text/html": [
       "<div>\n",
       "<style scoped>\n",
       "    .dataframe tbody tr th:only-of-type {\n",
       "        vertical-align: middle;\n",
       "    }\n",
       "\n",
       "    .dataframe tbody tr th {\n",
       "        vertical-align: top;\n",
       "    }\n",
       "\n",
       "    .dataframe thead th {\n",
       "        text-align: right;\n",
       "    }\n",
       "</style>\n",
       "<table border=\"1\" class=\"dataframe\">\n",
       "  <thead>\n",
       "    <tr style=\"text-align: right;\">\n",
       "      <th></th>\n",
       "      <th>snapped_at</th>\n",
       "      <th>price</th>\n",
       "      <th>market_cap</th>\n",
       "      <th>total_volume</th>\n",
       "    </tr>\n",
       "  </thead>\n",
       "  <tbody>\n",
       "    <tr>\n",
       "      <th>1375</th>\n",
       "      <td>2024-06-22</td>\n",
       "      <td>0.027903</td>\n",
       "      <td>1.004553e+09</td>\n",
       "      <td>1.008485e+08</td>\n",
       "    </tr>\n",
       "    <tr>\n",
       "      <th>1376</th>\n",
       "      <td>2024-06-23</td>\n",
       "      <td>0.028450</td>\n",
       "      <td>1.025643e+09</td>\n",
       "      <td>5.539994e+07</td>\n",
       "    </tr>\n",
       "    <tr>\n",
       "      <th>1377</th>\n",
       "      <td>2024-06-24</td>\n",
       "      <td>0.027113</td>\n",
       "      <td>9.762272e+08</td>\n",
       "      <td>6.322490e+07</td>\n",
       "    </tr>\n",
       "    <tr>\n",
       "      <th>1378</th>\n",
       "      <td>2024-06-25</td>\n",
       "      <td>0.028052</td>\n",
       "      <td>1.012078e+09</td>\n",
       "      <td>1.120518e+08</td>\n",
       "    </tr>\n",
       "    <tr>\n",
       "      <th>1379</th>\n",
       "      <td>2024-06-26</td>\n",
       "      <td>0.028557</td>\n",
       "      <td>1.031717e+09</td>\n",
       "      <td>7.630089e+07</td>\n",
       "    </tr>\n",
       "  </tbody>\n",
       "</table>\n",
       "</div>"
      ],
      "text/plain": [
       "      snapped_at     price    market_cap  total_volume\n",
       "1375  2024-06-22  0.027903  1.004553e+09  1.008485e+08\n",
       "1376  2024-06-23  0.028450  1.025643e+09  5.539994e+07\n",
       "1377  2024-06-24  0.027113  9.762272e+08  6.322490e+07\n",
       "1378  2024-06-25  0.028052  1.012078e+09  1.120518e+08\n",
       "1379  2024-06-26  0.028557  1.031717e+09  7.630089e+07"
      ]
     },
     "execution_count": 3,
     "metadata": {},
     "output_type": "execute_result"
    }
   ],
   "source": [
    "df.tail()"
   ]
  },
  {
   "cell_type": "code",
   "execution_count": 4,
   "metadata": {},
   "outputs": [
    {
     "data": {
      "text/html": [
       "<div>\n",
       "<style scoped>\n",
       "    .dataframe tbody tr th:only-of-type {\n",
       "        vertical-align: middle;\n",
       "    }\n",
       "\n",
       "    .dataframe tbody tr th {\n",
       "        vertical-align: top;\n",
       "    }\n",
       "\n",
       "    .dataframe thead th {\n",
       "        text-align: right;\n",
       "    }\n",
       "</style>\n",
       "<table border=\"1\" class=\"dataframe\">\n",
       "  <thead>\n",
       "    <tr style=\"text-align: right;\">\n",
       "      <th></th>\n",
       "      <th>price</th>\n",
       "      <th>market_cap</th>\n",
       "      <th>total_volume</th>\n",
       "    </tr>\n",
       "  </thead>\n",
       "  <tbody>\n",
       "    <tr>\n",
       "      <th>count</th>\n",
       "      <td>1380.000000</td>\n",
       "      <td>1.380000e+03</td>\n",
       "      <td>1.380000e+03</td>\n",
       "    </tr>\n",
       "    <tr>\n",
       "      <th>mean</th>\n",
       "      <td>0.067681</td>\n",
       "      <td>7.252115e+08</td>\n",
       "      <td>2.647261e+08</td>\n",
       "    </tr>\n",
       "    <tr>\n",
       "      <th>std</th>\n",
       "      <td>0.106313</td>\n",
       "      <td>8.522113e+08</td>\n",
       "      <td>4.226744e+08</td>\n",
       "    </tr>\n",
       "    <tr>\n",
       "      <th>min</th>\n",
       "      <td>0.000198</td>\n",
       "      <td>0.000000e+00</td>\n",
       "      <td>1.400018e+02</td>\n",
       "    </tr>\n",
       "    <tr>\n",
       "      <th>25%</th>\n",
       "      <td>0.019734</td>\n",
       "      <td>1.906391e+08</td>\n",
       "      <td>4.222097e+06</td>\n",
       "    </tr>\n",
       "    <tr>\n",
       "      <th>50%</th>\n",
       "      <td>0.030676</td>\n",
       "      <td>4.078072e+08</td>\n",
       "      <td>1.361266e+08</td>\n",
       "    </tr>\n",
       "    <tr>\n",
       "      <th>75%</th>\n",
       "      <td>0.055575</td>\n",
       "      <td>8.466103e+08</td>\n",
       "      <td>3.580960e+08</td>\n",
       "    </tr>\n",
       "    <tr>\n",
       "      <th>max</th>\n",
       "      <td>0.719239</td>\n",
       "      <td>5.417820e+09</td>\n",
       "      <td>6.304469e+09</td>\n",
       "    </tr>\n",
       "  </tbody>\n",
       "</table>\n",
       "</div>"
      ],
      "text/plain": [
       "             price    market_cap  total_volume\n",
       "count  1380.000000  1.380000e+03  1.380000e+03\n",
       "mean      0.067681  7.252115e+08  2.647261e+08\n",
       "std       0.106313  8.522113e+08  4.226744e+08\n",
       "min       0.000198  0.000000e+00  1.400018e+02\n",
       "25%       0.019734  1.906391e+08  4.222097e+06\n",
       "50%       0.030676  4.078072e+08  1.361266e+08\n",
       "75%       0.055575  8.466103e+08  3.580960e+08\n",
       "max       0.719239  5.417820e+09  6.304469e+09"
      ]
     },
     "execution_count": 4,
     "metadata": {},
     "output_type": "execute_result"
    }
   ],
   "source": [
    "df.describe()"
   ]
  },
  {
   "cell_type": "code",
   "execution_count": 6,
   "metadata": {},
   "outputs": [
    {
     "data": {
      "image/png": "[encoded data removed]",
      "text/plain": [
       "<Figure size 640x480 with 1 Axes>"
      ]
     },
     "metadata": {},
     "output_type": "display_data"
    }
   ],
   "source": [
    "fig, ax = plt.subplots()\n",
    "\n",
    "ax.plot(df[\"snapped_at\"], df[\"price\"])\n",
    "# ax.set_xlabel(\"Date\")\n",
    "ax.set_ylabel(\"Price\")\n",
    "# ax.axvspan(2056, 2421, color='#808080', alpha=0.2)\n",
    "\n",
    "# plt.xticks(np.arange(53, 2421,365))\n",
    "\n",
    "fig.autofmt_xdate()\n",
    "plt.tight_layout()"
   ]
  },
  {
   "cell_type": "markdown",
   "metadata": {},
   "source": [
    "Is this Random Walk?\n"
   ]
  },
  {
   "cell_type": "code",
   "execution_count": 7,
   "metadata": {},
   "outputs": [
    {
     "name": "stdout",
     "output_type": "stream",
     "text": [
      "ADF Statistic: -2.508124486598664\n",
      "p-value: 0.11351004321691904\n"
     ]
    }
   ],
   "source": [
    "ADF_result = adfuller(df['price'])\n",
    "\n",
    "print(f'ADF Statistic: {ADF_result[0]}')\n",
    "print(f'p-value: {ADF_result[1]}')"
   ]
  },
  {
   "cell_type": "markdown",
   "metadata": {},
   "source": [
    "p-value is not less than 0.05 so cannot reject null hypothesis.\n"
   ]
  },
  {
   "cell_type": "markdown",
   "metadata": {},
   "source": [
    "so we get difference"
   ]
  },
  {
   "cell_type": "code",
   "execution_count": 8,
   "metadata": {},
   "outputs": [],
   "source": [
    "diff_price = np.diff(df['price'], n=1)"
   ]
  },
  {
   "cell_type": "code",
   "execution_count": 9,
   "metadata": {},
   "outputs": [
    {
     "name": "stdout",
     "output_type": "stream",
     "text": [
      "ADF Statistic: -8.149099940606842\n",
      "p-value: 9.805542339102412e-13\n"
     ]
    }
   ],
   "source": [
    "diff_ADF_result = adfuller(diff_price)\n",
    "\n",
    "print(f'ADF Statistic: {diff_ADF_result[0]}')\n",
    "print(f'p-value: {diff_ADF_result[1]}')"
   ]
  },
  {
   "cell_type": "markdown",
   "metadata": {},
   "source": [
    "p-value is less than 0.05 so diff_price is stationary."
   ]
  },
  {
   "cell_type": "code",
   "execution_count": 11,
   "metadata": {},
   "outputs": [
    {
     "data": {
      "image/png": "[encoded data removed]",
      "text/plain": [
       "<Figure size 640x480 with 1 Axes>"
      ]
     },
     "metadata": {},
     "output_type": "display_data"
    }
   ],
   "source": [
    "plot_acf(diff_price, lags=50);"
   ]
  },
  {
   "cell_type": "markdown",
   "metadata": {},
   "source": [
    "Time series is very near to Random Walk. But not 100%.\n",
    "Have some hopes than others."
   ]
  },
  {
   "cell_type": "code",
   "execution_count": null,
   "metadata": {},
   "outputs": [],
   "source": []
  }
 ],
 "metadata": {
  "kernelspec": {
   "display_name": "Python 3",
   "language": "python",
   "name": "python3"
  },
  "language_info": {
   "codemirror_mode": {
    "name": "ipython",
    "version": 3
   },
   "file_extension": ".py",
   "mimetype": "text/x-python",
   "name": "python",
   "nbconvert_exporter": "python",
   "pygments_lexer": "ipython3",
   "version": "3.11.4"
  }
 },
 "nbformat": 4,
 "nbformat_minor": 2
}

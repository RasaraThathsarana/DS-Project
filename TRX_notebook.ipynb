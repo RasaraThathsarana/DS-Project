{
 "cells": [
  {
   "cell_type": "code",
   "execution_count": 4,
   "metadata": {},
   "outputs": [],
   "source": [
    "import numpy as np\n",
    "import pandas as pd\n",
    "import matplotlib.pyplot as plt\n",
    "\n",
    "from statsmodels.tsa.seasonal import seasonal_decompose, STL\n",
    "from statsmodels.graphics.tsaplots import plot_acf\n",
    "from statsmodels.tsa.stattools import adfuller\n",
    "\n",
    "import warnings\n",
    "warnings.filterwarnings('ignore')\n"
   ]
  },
  {
   "cell_type": "code",
   "execution_count": 5,
   "metadata": {},
   "outputs": [
    {
     "data": {
      "text/html": [
       "<div>\n",
       "<style scoped>\n",
       "    .dataframe tbody tr th:only-of-type {\n",
       "        vertical-align: middle;\n",
       "    }\n",
       "\n",
       "    .dataframe tbody tr th {\n",
       "        vertical-align: top;\n",
       "    }\n",
       "\n",
       "    .dataframe thead th {\n",
       "        text-align: right;\n",
       "    }\n",
       "</style>\n",
       "<table border=\"1\" class=\"dataframe\">\n",
       "  <thead>\n",
       "    <tr style=\"text-align: right;\">\n",
       "      <th></th>\n",
       "      <th>snapped_at</th>\n",
       "      <th>price</th>\n",
       "      <th>market_cap</th>\n",
       "      <th>total_volume</th>\n",
       "    </tr>\n",
       "  </thead>\n",
       "  <tbody>\n",
       "    <tr>\n",
       "      <th>0</th>\n",
       "      <td>2017-11-09</td>\n",
       "      <td>0.002387</td>\n",
       "      <td>1.564042e+08</td>\n",
       "      <td>1.224287e+06</td>\n",
       "    </tr>\n",
       "    <tr>\n",
       "      <th>1</th>\n",
       "      <td>2017-11-10</td>\n",
       "      <td>0.002044</td>\n",
       "      <td>1.339685e+08</td>\n",
       "      <td>9.904228e+05</td>\n",
       "    </tr>\n",
       "    <tr>\n",
       "      <th>2</th>\n",
       "      <td>2017-11-11</td>\n",
       "      <td>0.001915</td>\n",
       "      <td>1.254706e+08</td>\n",
       "      <td>7.076430e+05</td>\n",
       "    </tr>\n",
       "    <tr>\n",
       "      <th>3</th>\n",
       "      <td>2017-11-12</td>\n",
       "      <td>0.001804</td>\n",
       "      <td>1.182352e+08</td>\n",
       "      <td>8.147892e+05</td>\n",
       "    </tr>\n",
       "    <tr>\n",
       "      <th>4</th>\n",
       "      <td>2017-11-13</td>\n",
       "      <td>0.002018</td>\n",
       "      <td>1.323864e+08</td>\n",
       "      <td>8.949856e+05</td>\n",
       "    </tr>\n",
       "  </tbody>\n",
       "</table>\n",
       "</div>"
      ],
      "text/plain": [
       "   snapped_at     price    market_cap  total_volume\n",
       "0  2017-11-09  0.002387  1.564042e+08  1.224287e+06\n",
       "1  2017-11-10  0.002044  1.339685e+08  9.904228e+05\n",
       "2  2017-11-11  0.001915  1.254706e+08  7.076430e+05\n",
       "3  2017-11-12  0.001804  1.182352e+08  8.147892e+05\n",
       "4  2017-11-13  0.002018  1.323864e+08  8.949856e+05"
      ]
     },
     "execution_count": 5,
     "metadata": {},
     "output_type": "execute_result"
    }
   ],
   "source": [
    "df = pd.read_csv(\"trx-usd-max.csv\")\n",
    "df['snapped_at'] = pd.to_datetime(df['snapped_at'])\n",
    "df['snapped_at'] = df['snapped_at'].dt.strftime('%Y-%m-%d')\n",
    "df.head()"
   ]
  },
  {
   "cell_type": "code",
   "execution_count": 6,
   "metadata": {},
   "outputs": [
    {
     "data": {
      "text/html": [
       "<div>\n",
       "<style scoped>\n",
       "    .dataframe tbody tr th:only-of-type {\n",
       "        vertical-align: middle;\n",
       "    }\n",
       "\n",
       "    .dataframe tbody tr th {\n",
       "        vertical-align: top;\n",
       "    }\n",
       "\n",
       "    .dataframe thead th {\n",
       "        text-align: right;\n",
       "    }\n",
       "</style>\n",
       "<table border=\"1\" class=\"dataframe\">\n",
       "  <thead>\n",
       "    <tr style=\"text-align: right;\">\n",
       "      <th></th>\n",
       "      <th>snapped_at</th>\n",
       "      <th>price</th>\n",
       "      <th>market_cap</th>\n",
       "      <th>total_volume</th>\n",
       "    </tr>\n",
       "  </thead>\n",
       "  <tbody>\n",
       "    <tr>\n",
       "      <th>2417</th>\n",
       "      <td>2024-06-22</td>\n",
       "      <td>0.118295</td>\n",
       "      <td>1.032038e+10</td>\n",
       "      <td>3.377688e+08</td>\n",
       "    </tr>\n",
       "    <tr>\n",
       "      <th>2418</th>\n",
       "      <td>2024-06-23</td>\n",
       "      <td>0.119594</td>\n",
       "      <td>1.043394e+10</td>\n",
       "      <td>2.333869e+08</td>\n",
       "    </tr>\n",
       "    <tr>\n",
       "      <th>2419</th>\n",
       "      <td>2024-06-24</td>\n",
       "      <td>0.119126</td>\n",
       "      <td>1.039536e+10</td>\n",
       "      <td>2.157735e+08</td>\n",
       "    </tr>\n",
       "    <tr>\n",
       "      <th>2420</th>\n",
       "      <td>2024-06-25</td>\n",
       "      <td>0.119138</td>\n",
       "      <td>1.038292e+10</td>\n",
       "      <td>4.013700e+08</td>\n",
       "    </tr>\n",
       "    <tr>\n",
       "      <th>2421</th>\n",
       "      <td>2024-06-26</td>\n",
       "      <td>0.121878</td>\n",
       "      <td>1.064070e+10</td>\n",
       "      <td>3.069849e+08</td>\n",
       "    </tr>\n",
       "  </tbody>\n",
       "</table>\n",
       "</div>"
      ],
      "text/plain": [
       "      snapped_at     price    market_cap  total_volume\n",
       "2417  2024-06-22  0.118295  1.032038e+10  3.377688e+08\n",
       "2418  2024-06-23  0.119594  1.043394e+10  2.333869e+08\n",
       "2419  2024-06-24  0.119126  1.039536e+10  2.157735e+08\n",
       "2420  2024-06-25  0.119138  1.038292e+10  4.013700e+08\n",
       "2421  2024-06-26  0.121878  1.064070e+10  3.069849e+08"
      ]
     },
     "execution_count": 6,
     "metadata": {},
     "output_type": "execute_result"
    }
   ],
   "source": [
    "df.tail()"
   ]
  },
  {
   "cell_type": "code",
   "execution_count": 7,
   "metadata": {},
   "outputs": [
    {
     "data": {
      "text/html": [
       "<div>\n",
       "<style scoped>\n",
       "    .dataframe tbody tr th:only-of-type {\n",
       "        vertical-align: middle;\n",
       "    }\n",
       "\n",
       "    .dataframe tbody tr th {\n",
       "        vertical-align: top;\n",
       "    }\n",
       "\n",
       "    .dataframe thead th {\n",
       "        text-align: right;\n",
       "    }\n",
       "</style>\n",
       "<table border=\"1\" class=\"dataframe\">\n",
       "  <thead>\n",
       "    <tr style=\"text-align: right;\">\n",
       "      <th></th>\n",
       "      <th>price</th>\n",
       "      <th>market_cap</th>\n",
       "      <th>total_volume</th>\n",
       "    </tr>\n",
       "  </thead>\n",
       "  <tbody>\n",
       "    <tr>\n",
       "      <th>count</th>\n",
       "      <td>2422.000000</td>\n",
       "      <td>2.422000e+03</td>\n",
       "      <td>2.422000e+03</td>\n",
       "    </tr>\n",
       "    <tr>\n",
       "      <th>mean</th>\n",
       "      <td>0.055506</td>\n",
       "      <td>4.529859e+09</td>\n",
       "      <td>8.472917e+08</td>\n",
       "    </tr>\n",
       "    <tr>\n",
       "      <th>std</th>\n",
       "      <td>0.034944</td>\n",
       "      <td>3.106280e+09</td>\n",
       "      <td>1.017632e+09</td>\n",
       "    </tr>\n",
       "    <tr>\n",
       "      <th>min</th>\n",
       "      <td>0.001804</td>\n",
       "      <td>1.182352e+08</td>\n",
       "      <td>1.649305e+04</td>\n",
       "    </tr>\n",
       "    <tr>\n",
       "      <th>25%</th>\n",
       "      <td>0.023866</td>\n",
       "      <td>1.578241e+09</td>\n",
       "      <td>2.659413e+08</td>\n",
       "    </tr>\n",
       "    <tr>\n",
       "      <th>50%</th>\n",
       "      <td>0.055444</td>\n",
       "      <td>4.532790e+09</td>\n",
       "      <td>5.401037e+08</td>\n",
       "    </tr>\n",
       "    <tr>\n",
       "      <th>75%</th>\n",
       "      <td>0.077016</td>\n",
       "      <td>6.777577e+09</td>\n",
       "      <td>1.105367e+09</td>\n",
       "    </tr>\n",
       "    <tr>\n",
       "      <th>max</th>\n",
       "      <td>0.231673</td>\n",
       "      <td>1.523206e+10</td>\n",
       "      <td>1.301873e+10</td>\n",
       "    </tr>\n",
       "  </tbody>\n",
       "</table>\n",
       "</div>"
      ],
      "text/plain": [
       "             price    market_cap  total_volume\n",
       "count  2422.000000  2.422000e+03  2.422000e+03\n",
       "mean      0.055506  4.529859e+09  8.472917e+08\n",
       "std       0.034944  3.106280e+09  1.017632e+09\n",
       "min       0.001804  1.182352e+08  1.649305e+04\n",
       "25%       0.023866  1.578241e+09  2.659413e+08\n",
       "50%       0.055444  4.532790e+09  5.401037e+08\n",
       "75%       0.077016  6.777577e+09  1.105367e+09\n",
       "max       0.231673  1.523206e+10  1.301873e+10"
      ]
     },
     "execution_count": 7,
     "metadata": {},
     "output_type": "execute_result"
    }
   ],
   "source": [
    "df.describe()"
   ]
  },
  {
   "cell_type": "code",
   "execution_count": 9,
   "metadata": {},
   "outputs": [
    {
     "data": {
      "image/png": "[encoded data removed]",
      "text/plain": [
       "<Figure size 640x480 with 1 Axes>"
      ]
     },
     "metadata": {},
     "output_type": "display_data"
    }
   ],
   "source": [
    "fig, ax = plt.subplots()\n",
    "\n",
    "ax.plot(df[\"snapped_at\"], df[\"price\"])\n",
    "ax.set_xlabel(\"Date\")\n",
    "ax.set_ylabel(\"Price\")\n",
    "# ax.axvspan(2056, 2421, color='#808080', alpha=0.2)\n",
    "\n",
    "plt.xticks(np.arange(53, 2421,365))\n",
    "\n",
    "fig.autofmt_xdate()\n",
    "plt.tight_layout()"
   ]
  },
  {
   "cell_type": "markdown",
   "metadata": {},
   "source": [
    "Is this Random Walk?\n"
   ]
  },
  {
   "cell_type": "code",
   "execution_count": 11,
   "metadata": {},
   "outputs": [
    {
     "name": "stdout",
     "output_type": "stream",
     "text": [
      "ADF Statistic: -2.5560854729933182\n",
      "p-value: 0.10241735339644731\n"
     ]
    }
   ],
   "source": [
    "ADF_result = adfuller(df['price'])\n",
    "\n",
    "print(f'ADF Statistic: {ADF_result[0]}')\n",
    "print(f'p-value: {ADF_result[1]}')"
   ]
  },
  {
   "cell_type": "markdown",
   "metadata": {},
   "source": [
    "p-value is not less than 0.05 so cannot reject null hypothesis.\n"
   ]
  },
  {
   "cell_type": "markdown",
   "metadata": {},
   "source": [
    "so we get difference"
   ]
  },
  {
   "cell_type": "code",
   "execution_count": 12,
   "metadata": {},
   "outputs": [],
   "source": [
    "diff_price = np.diff(df['price'], n=1)"
   ]
  },
  {
   "cell_type": "code",
   "execution_count": 13,
   "metadata": {},
   "outputs": [
    {
     "name": "stdout",
     "output_type": "stream",
     "text": [
      "ADF Statistic: -10.765182838268961\n",
      "p-value: 2.4629867112565233e-19\n"
     ]
    }
   ],
   "source": [
    "diff_ADF_result = adfuller(diff_price)\n",
    "\n",
    "print(f'ADF Statistic: {diff_ADF_result[0]}')\n",
    "print(f'p-value: {diff_ADF_result[1]}')"
   ]
  },
  {
   "cell_type": "markdown",
   "metadata": {},
   "source": [
    "p-value is less than 0.05 so diff_price is stationary."
   ]
  },
  {
   "cell_type": "code",
   "execution_count": 27,
   "metadata": {},
   "outputs": [
    {
     "data": {
      "image/png": "[encoded data removed]",
      "text/plain": [
       "<Figure size 640x480 with 1 Axes>"
      ]
     },
     "metadata": {},
     "output_type": "display_data"
    }
   ],
   "source": [
    "plot_acf(diff_price, lags=20);"
   ]
  },
  {
   "cell_type": "markdown",
   "metadata": {},
   "source": [
    "Time series is very near to Random Walk. But not 100%"
   ]
  },
  {
   "cell_type": "code",
   "execution_count": null,
   "metadata": {},
   "outputs": [],
   "source": []
  }
 ],
 "metadata": {
  "kernelspec": {
   "display_name": "Python 3",
   "language": "python",
   "name": "python3"
  },
  "language_info": {
   "codemirror_mode": {
    "name": "ipython",
    "version": 3
   },
   "file_extension": ".py",
   "mimetype": "text/x-python",
   "name": "python",
   "nbconvert_exporter": "python",
   "pygments_lexer": "ipython3",
   "version": "3.11.4"
  }
 },
 "nbformat": 4,
 "nbformat_minor": 2
}
